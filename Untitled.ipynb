{
 "cells": [
  {
   "cell_type": "markdown",
   "metadata": {},
   "source": [
    "# Matemática Elemental\n",
    "## Ender Araujo. 2020\n",
    "### ISBN 978-9945-09-246-2\n",
    "\n",
    "Ejercicos resueltos. Capítulo 1. Límites. Sustitución directa."
   ]
  },
  {
   "cell_type": "markdown",
   "metadata": {},
   "source": [
    "*Los ejercicios están en el Canal de Youtube.* La *Clase 01* de Límites tiene el contenido más simple posible sobre éste tema y en el cual se aplica únicamente el concepto de *Sustitución Directa*, al momento de trabajar la resolución algebraica."
   ]
  },
  {
   "cell_type": "code",
   "execution_count": 1,
   "metadata": {},
   "outputs": [
    {
     "data": {
      "image/jpeg": "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\n",
      "text/html": [
       "\n",
       "        <iframe\n",
       "            width=\"400\"\n",
       "            height=\"300\"\n",
       "            src=\"https://www.youtube.com/embed/8WrkmKhRBBc\"\n",
       "            frameborder=\"0\"\n",
       "            allowfullscreen\n",
       "        ></iframe>\n",
       "        "
      ],
      "text/plain": [
       "<IPython.lib.display.YouTubeVideo at 0x7f6e294f0810>"
      ]
     },
     "execution_count": 1,
     "metadata": {},
     "output_type": "execute_result"
    }
   ],
   "source": [
    "from IPython.display import YouTubeVideo\n",
    "YouTubeVideo('8WrkmKhRBBc') # URL: https://www.youtube.com/watch?v=8WrkmKhRBBc"
   ]
  },
  {
   "cell_type": "markdown",
   "metadata": {},
   "source": [
    "__Ejemplo 1__\n",
    "\n",
    "Calcular el siguiente límite:\n",
    "\n",
    "$L_{E01} = \\underset{x \\to 5}{\\lim} (2x^2 - 3x +4)$\n",
    "\n",
    "__Respuesta del Ejemplo 1__\n",
    "\n",
    "Se hace una sustitución directa (SD) asi que:\n",
    "\n",
    "$L_{E01} = 2(5)^2 - 3(5) + 4 = 2(25) - 15 + 4 = \\mathbf{39}$\n"
   ]
  },
  {
   "cell_type": "code",
   "execution_count": 2,
   "metadata": {},
   "outputs": [
    {
     "name": "stdout",
     "output_type": "stream",
     "text": [
      "El límite del Ejemplo 1, es 39\n"
     ]
    }
   ],
   "source": [
    "def f(x):\n",
    "    f = 2*x**2 - 3*x + 4\n",
    "    return f\n",
    "print ('El límite del Ejemplo 1, es %g' % f(5))"
   ]
  },
  {
   "cell_type": "markdown",
   "metadata": {},
   "source": [
    "__Ejemplo 2__\n",
    "\n",
    "Calcular el siguiente límite:\n",
    "\n",
    "$L_{E02} = \\underset{x \\to 4}{\\lim} (5x^2 - 2x + 3)$\n",
    "\n",
    "__Respuesta del Ejemplo 2__\n",
    "\n",
    "Se hace una sustitución directa (SD) asi que:\n",
    "\n",
    "$L_{E02} = 2(4)^2 - 2(4) + 3 = 2(16) - 8 + 3 = \\mathbf{75}$"
   ]
  },
  {
   "cell_type": "code",
   "execution_count": 3,
   "metadata": {},
   "outputs": [
    {
     "name": "stdout",
     "output_type": "stream",
     "text": [
      "El límite del Ejemplo 2, es 75\n"
     ]
    }
   ],
   "source": [
    "def f(x):\n",
    "    f = 5*x**2 - 2*x + 3\n",
    "    return f\n",
    "print ('El límite del Ejemplo 2, es %g' % f(4))"
   ]
  },
  {
   "cell_type": "markdown",
   "metadata": {},
   "source": [
    "__Ejercicio 1__\n",
    "\n",
    "Calcular el siguiente límite:\n",
    "\n",
    "$L_{EX1} = \\underset{x \\to 3}{\\lim} (2x^3 - 10x - 8)$\n",
    "\n",
    "__Respuesta del Ejercicio 1__\n",
    "\n",
    "Se hace una sustitución directa (SD) asi que:\n",
    "\n",
    "$L_{EX1} = 2(3)^3 - 10(3) - 8 = 2(27) - 30 - 8 = \\mathbf{16}$"
   ]
  },
  {
   "cell_type": "code",
   "execution_count": 4,
   "metadata": {},
   "outputs": [
    {
     "name": "stdout",
     "output_type": "stream",
     "text": [
      "El límite del Ejercicio 1, es 16\n"
     ]
    }
   ],
   "source": [
    "def f(x):\n",
    "    f = 2*x**3 - 10*x - 8\n",
    "    return f\n",
    "print ('El límite del Ejercicio 1, es %g' % f(3))"
   ]
  },
  {
   "cell_type": "markdown",
   "metadata": {},
   "source": [
    "__Ejemplo 3__\n",
    "\n",
    "Calcular el siguiente límite, de un cociente:\n",
    "\n",
    "$L_{E03} = \\underset{x \\to -2}{\\lim} \\bigg( \\frac{x^3 + 2x^2 - 1}{5 - 3x} \\bigg)$\n",
    "\n",
    "__Respuesta del Ejemplo 3__\n",
    "\n",
    "Se hace una sustitución directa (SD) asi que:\n",
    "\n",
    "$L_{E03} = \\frac{(-2)^3 + 2(-2)^2 - 1}{5 - 3(-2)} = \\frac{-8 + 8 - 1}{5 - 3(-2)} = -\\frac{1}{11} \\approx \\mathbf{-0.0909091}$"
   ]
  },
  {
   "cell_type": "code",
   "execution_count": 5,
   "metadata": {},
   "outputs": [
    {
     "name": "stdout",
     "output_type": "stream",
     "text": [
      "El límite del Ejemplo 3, es -0.0909091\n"
     ]
    }
   ],
   "source": [
    "def f(x):\n",
    "    f = (x**3 + 2*x**2 - 1)/(5 - 3*x)\n",
    "    return f\n",
    "print ('El límite del Ejemplo 3, es %g' % f(-2))"
   ]
  },
  {
   "cell_type": "markdown",
   "metadata": {},
   "source": [
    "__Ejercicio 2__\n",
    "\n",
    "Calcular el siguiente límite, de un cociente:\n",
    "\n",
    "$L_{E03} = \\underset{x \\to -1}{\\lim} \\bigg( \\frac{x^2 + 5x}{x^4 + 2} \\bigg)$\n",
    "\n",
    "__Respuesta del Ejercicio 2__\n",
    "\n",
    "Se hace una sustitución directa (SD) asi que:\n",
    "\n",
    "$L_{E03} = \\frac{(-1)^2 + 5(-1)}{(-1)^4 + 2} = \\frac{1 - 5}{1 + 2} = -\\frac{-4}{3} \\approx \\mathbf{-1.33333}$"
   ]
  },
  {
   "cell_type": "code",
   "execution_count": 6,
   "metadata": {},
   "outputs": [
    {
     "name": "stdout",
     "output_type": "stream",
     "text": [
      "El límite del Ejercicio 2, es -1.33333\n"
     ]
    }
   ],
   "source": [
    "def f(x):\n",
    "    f = (x**4 + 5*x)/(x**4 + 2)\n",
    "    return f\n",
    "print ('El límite del Ejercicio 2, es %g' % f(-1))"
   ]
  },
  {
   "cell_type": "code",
   "execution_count": null,
   "metadata": {},
   "outputs": [],
   "source": []
  }
 ],
 "metadata": {
  "kernelspec": {
   "display_name": "Python 3",
   "language": "python",
   "name": "python3"
  },
  "language_info": {
   "codemirror_mode": {
    "name": "ipython",
    "version": 3
   },
   "file_extension": ".py",
   "mimetype": "text/x-python",
   "name": "python",
   "nbconvert_exporter": "python",
   "pygments_lexer": "ipython3",
   "version": "3.7.4"
  }
 },
 "nbformat": 4,
 "nbformat_minor": 2
}
{"metadata":{"language_info":{"name":"python","version":"3.7.6","mimetype":"text/x-python","codemirror_mode":{"name":"ipython","version":3},"pygments_lexer":"ipython3","nbconvert_exporter":"python","file_extension":".py"},"kernelspec":{"name":"python3","display_name":"Python 3","language":"python"}},"nbformat_minor":4,"nbformat":4,"cells":[{"cell_type":"code","source":"def f(x):\n    f = 3*x**2 + 9*x + 24\n    return f\nprint ('El limite del ejemplo 1, es %g' % f(-3))","metadata":{"trusted":true},"execution_count":2,"outputs":[{"name":"stdout","text":"El limite del ejemplo 1, es 24\n","output_type":"stream"}]},{"cell_type":"code","source":"def f(x):\n    f = 2*(3*x**2 + 9*x + 24) + 3*x**3 + 6*x + 24\n    return f\nprint ('El limite del ejemplo 2, es %g' % f(2))","metadata":{"trusted":true},"execution_count":5,"outputs":[{"name":"stdout","text":"El limite del ejemplo 2, es 168\n","output_type":"stream"}]},{"cell_type":"code","source":"def f(x):\n    f = (3*x**2 + 9*x + 24) / (3*x**3 + 6*x + 24 + 1)\n    return f\nprint ('El limite del ejemplo 3, es %g' % f(2))","metadata":{"trusted":true},"execution_count":6,"outputs":[{"name":"stdout","text":"El limite del ejemplo 3, es 0.885246\n","output_type":"stream"}]},{"cell_type":"code","source":"def f(x):\n    f = (3*x**2 + 9*x + 24)  / (3*(3*x**3 + 9*x + 24) + 3*x**3 + 6*x + 24 - 10)\n    return f\nprint ('El limite del ejemplo 4, es %g' % f(2))","metadata":{"trusted":true},"execution_count":8,"outputs":[{"name":"stdout","text":"El limite del ejemplo 4, es 0.217742\n","output_type":"stream"}]},{"cell_type":"code","source":"def f(x):\n    f = (0+1 - 2*x)\n    return f\nprint ('El limite del ejemplo 5, es %g' % f(3))","metadata":{"trusted":true},"execution_count":17,"outputs":[{"name":"stdout","text":"El limite del ejemplo 5, es -5\n","output_type":"stream"}]},{"cell_type":"code","source":"","metadata":{},"execution_count":null,"outputs":[]}]}
